{
  "cells": [
    {
      "cell_type": "markdown",
      "metadata": {
        "id": "view-in-github",
        "colab_type": "text"
      },
      "source": [
        "<a href=\"https://colab.research.google.com/github/clarinct10/Big-Data-Airbnb-Project/blob/main/Airbnb_Project.ipynb\" target=\"_parent\"><img src=\"https://colab.research.google.com/assets/colab-badge.svg\" alt=\"Open In Colab\"/></a>"
      ]
    },
    {
      "cell_type": "markdown",
      "id": "43b32b50",
      "metadata": {
        "id": "43b32b50"
      },
      "source": [
        "# Project:  Analysis AirBnb Dataset Using Pyspark"
      ]
    },
    {
      "cell_type": "code",
      "execution_count": null,
      "id": "c6992b66",
      "metadata": {
        "id": "c6992b66",
        "outputId": "98a3df1f-e404-45ac-f36c-ba1e36958b12",
        "colab": {
          "base_uri": "https://localhost:8080/",
          "height": 373
        }
      },
      "outputs": [
        {
          "output_type": "error",
          "ename": "ModuleNotFoundError",
          "evalue": "ignored",
          "traceback": [
            "\u001b[0;31m---------------------------------------------------------------------------\u001b[0m",
            "\u001b[0;31mModuleNotFoundError\u001b[0m                       Traceback (most recent call last)",
            "\u001b[0;32m<ipython-input-1-bd3eb1b6b928>\u001b[0m in \u001b[0;36m<cell line: 7>\u001b[0;34m()\u001b[0m\n\u001b[1;32m      5\u001b[0m \u001b[0;32mimport\u001b[0m \u001b[0mmatplotlib\u001b[0m\u001b[0;34m.\u001b[0m\u001b[0mpyplot\u001b[0m \u001b[0;32mas\u001b[0m \u001b[0mplt\u001b[0m\u001b[0;34m\u001b[0m\u001b[0;34m\u001b[0m\u001b[0m\n\u001b[1;32m      6\u001b[0m \u001b[0;34m\u001b[0m\u001b[0m\n\u001b[0;32m----> 7\u001b[0;31m \u001b[0;32mfrom\u001b[0m \u001b[0mpyspark\u001b[0m\u001b[0;34m.\u001b[0m\u001b[0msql\u001b[0m \u001b[0;32mimport\u001b[0m \u001b[0;34m*\u001b[0m\u001b[0;34m\u001b[0m\u001b[0;34m\u001b[0m\u001b[0m\n\u001b[0m\u001b[1;32m      8\u001b[0m \u001b[0;32mfrom\u001b[0m \u001b[0mpyspark\u001b[0m\u001b[0;34m.\u001b[0m\u001b[0msql\u001b[0m \u001b[0;32mimport\u001b[0m \u001b[0mfunctions\u001b[0m \u001b[0;32mas\u001b[0m \u001b[0mfunc\u001b[0m\u001b[0;34m\u001b[0m\u001b[0;34m\u001b[0m\u001b[0m\n\u001b[1;32m      9\u001b[0m \u001b[0;32mfrom\u001b[0m \u001b[0mpyspark\u001b[0m\u001b[0;34m.\u001b[0m\u001b[0msql\u001b[0m \u001b[0;32mimport\u001b[0m \u001b[0mSparkSession\u001b[0m\u001b[0;34m\u001b[0m\u001b[0;34m\u001b[0m\u001b[0m\n",
            "\u001b[0;31mModuleNotFoundError\u001b[0m: No module named 'pyspark'",
            "",
            "\u001b[0;31m---------------------------------------------------------------------------\u001b[0;32m\nNOTE: If your import is failing due to a missing package, you can\nmanually install dependencies using either !pip or !apt.\n\nTo view examples of installing some common dependencies, click the\n\"Open Examples\" button below.\n\u001b[0;31m---------------------------------------------------------------------------\u001b[0m\n"
          ],
          "errorDetails": {
            "actions": [
              {
                "action": "open_url",
                "actionText": "Open Examples",
                "url": "/notebooks/snippets/importing_libraries.ipynb"
              }
            ]
          }
        }
      ],
      "source": [
        "# Import Library\n",
        "import numpy as np\n",
        "import pandas as pd\n",
        "import seaborn as sns\n",
        "import matplotlib.pyplot as plt\n",
        "\n",
        "from pyspark.sql import *\n",
        "from pyspark.sql import functions as func\n",
        "from pyspark.sql import SparkSession\n",
        "from pyspark.ml.stat import Correlation\n",
        "\n",
        "spark = SparkSession.builder.getOrCreate()"
      ]
    },
    {
      "cell_type": "code",
      "execution_count": null,
      "id": "0c2b62aa",
      "metadata": {
        "id": "0c2b62aa",
        "outputId": "f3374a74-a47a-4fc0-ec1d-d85aa7e94ed5"
      },
      "outputs": [
        {
          "data": {
            "text/html": [
              "\n",
              "            <div>\n",
              "                <p><b>SparkSession - hive</b></p>\n",
              "                \n",
              "        <div>\n",
              "            <p><b>SparkContext</b></p>\n",
              "\n",
              "            <p><a href=\"http://192.168.43.140:4040\">Spark UI</a></p>\n",
              "\n",
              "            <dl>\n",
              "              <dt>Version</dt>\n",
              "                <dd><code>v3.4.0</code></dd>\n",
              "              <dt>Master</dt>\n",
              "                <dd><code>local[*]</code></dd>\n",
              "              <dt>AppName</dt>\n",
              "                <dd><code>PySparkShell</code></dd>\n",
              "            </dl>\n",
              "        </div>\n",
              "        \n",
              "            </div>\n",
              "        "
            ],
            "text/plain": [
              "<pyspark.sql.session.SparkSession at 0x7f5515aad8d0>"
            ]
          },
          "execution_count": 2,
          "metadata": {},
          "output_type": "execute_result"
        }
      ],
      "source": [
        "# Spark UI\n",
        "spark"
      ]
    },
    {
      "cell_type": "code",
      "execution_count": null,
      "id": "da1b1fda",
      "metadata": {
        "id": "da1b1fda",
        "outputId": "9dd79a0c-6c23-4db9-a51d-235dddbf6a0a"
      },
      "outputs": [
        {
          "name": "stderr",
          "output_type": "stream",
          "text": [
            "                                                                                \r"
          ]
        },
        {
          "name": "stdout",
          "output_type": "stream",
          "text": [
            "+----+--------------------+-------+----------------+-------------------+------------------+--------+---------+---------------+-----+--------------+-----------------+-----------+-----------------+------------------------------+----------------+\n",
            "|  id|                name|host_id|       host_name|neighbourhood_group|     neighbourhood|latitude|longitude|      room_type|price|minimum_nights|number_of_reviews|last_review|reviews_per_month|calculated_host_listings_count|availability_365|\n",
            "+----+--------------------+-------+----------------+-------------------+------------------+--------+---------+---------------+-----+--------------+-----------------+-----------+-----------------+------------------------------+----------------+\n",
            "|2539|Clean & quiet apt...|   2787|            John|           Brooklyn|        Kensington|40.64749|-73.97237|   Private room|  149|             1|                9| 2018-10-19|             0.21|                             6|             365|\n",
            "|2595|Skylit Midtown Ca...|   2845|        Jennifer|          Manhattan|           Midtown|40.75362|-73.98377|Entire home/apt|  225|             1|               45| 2019-05-21|             0.38|                             2|             355|\n",
            "|3647|THE VILLAGE OF HA...|   4632|       Elisabeth|          Manhattan|            Harlem|40.80902| -73.9419|   Private room|  150|             3|                0|       null|             null|                             1|             365|\n",
            "|3831|Cozy Entire Floor...|   4869|     LisaRoxanne|           Brooklyn|      Clinton Hill|40.68514|-73.95976|Entire home/apt|   89|             1|              270| 2019-07-05|             4.64|                             1|             194|\n",
            "|5022|Entire Apt: Spaci...|   7192|           Laura|          Manhattan|       East Harlem|40.79851|-73.94399|Entire home/apt|   80|            10|                9| 2018-11-19|             0.10|                             1|               0|\n",
            "|5099|Large Cozy 1 BR A...|   7322|           Chris|          Manhattan|       Murray Hill|40.74767|  -73.975|Entire home/apt|  200|             3|               74| 2019-06-22|             0.59|                             1|             129|\n",
            "|5121|     BlissArtsSpace!|   7356|           Garon|           Brooklyn|Bedford-Stuyvesant|40.68688|-73.95596|   Private room|   60|            45|               49| 2017-10-05|             0.40|                             1|               0|\n",
            "|5178|Large Furnished R...|   8967|        Shunichi|          Manhattan|    Hell's Kitchen|40.76489|-73.98493|   Private room|   79|             2|              430| 2019-06-24|             3.47|                             1|             220|\n",
            "|5203|Cozy Clean Guest ...|   7490|       MaryEllen|          Manhattan|   Upper West Side|40.80178|-73.96723|   Private room|   79|             2|              118| 2017-07-21|             0.99|                             1|               0|\n",
            "|5238|Cute & Cozy Lower...|   7549|             Ben|          Manhattan|         Chinatown|40.71344|-73.99037|Entire home/apt|  150|             1|              160| 2019-06-09|             1.33|                             4|             188|\n",
            "|5295|Beautiful 1br on ...|   7702|            Lena|          Manhattan|   Upper West Side|40.80316|-73.96545|Entire home/apt|  135|             5|               53| 2019-06-22|             0.43|                             1|               6|\n",
            "|5441|Central Manhattan...|   7989|            Kate|          Manhattan|    Hell's Kitchen|40.76076|-73.98867|   Private room|   85|             2|              188| 2019-06-23|             1.50|                             1|              39|\n",
            "|5803|Lovely Room 1, Ga...|   9744|          Laurie|           Brooklyn|       South Slope|40.66829|-73.98779|   Private room|   89|             4|              167| 2019-06-24|             1.34|                             3|             314|\n",
            "|6021|Wonderful Guest B...|  11528|         Claudio|          Manhattan|   Upper West Side|40.79826|-73.96113|   Private room|   85|             2|              113| 2019-07-05|             0.91|                             1|             333|\n",
            "|6090|West Village Nest...|  11975|           Alina|          Manhattan|      West Village| 40.7353|-74.00525|Entire home/apt|  120|            90|               27| 2018-10-31|             0.22|                             1|               0|\n",
            "|6848|Only 2 stops to M...|  15991|   Allen & Irina|           Brooklyn|      Williamsburg|40.70837|-73.95352|Entire home/apt|  140|             2|              148| 2019-06-29|             1.20|                             1|              46|\n",
            "|7097|Perfect for Your ...|  17571|            Jane|           Brooklyn|       Fort Greene|40.69169|-73.97185|Entire home/apt|  215|             2|              198| 2019-06-28|             1.72|                             1|             321|\n",
            "|7322|     Chelsea Perfect|  18946|            Doti|          Manhattan|           Chelsea|40.74192|-73.99501|   Private room|  140|             1|              260| 2019-07-01|             2.12|                             1|              12|\n",
            "|7726|Hip Historic Brow...|  20950|Adam And Charity|           Brooklyn|     Crown Heights|40.67592|-73.94694|Entire home/apt|   99|             3|               53| 2019-06-22|             4.44|                             1|              21|\n",
            "|7750|Huge 2 BR Upper E...|  17985|            Sing|          Manhattan|       East Harlem|40.79685|-73.94872|Entire home/apt|  190|             7|                0|       null|             null|                             2|             249|\n",
            "+----+--------------------+-------+----------------+-------------------+------------------+--------+---------+---------------+-----+--------------+-----------------+-----------+-----------------+------------------------------+----------------+\n",
            "only showing top 20 rows\n",
            "\n"
          ]
        }
      ],
      "source": [
        "# Read the Dataset\n",
        "df = spark.read.csv(\"hdfs://localhost:9000/clarin/AB_NYC_2019.csv\",header=True)\n",
        "df.show()"
      ]
    },
    {
      "cell_type": "code",
      "execution_count": null,
      "id": "327d18f9",
      "metadata": {
        "id": "327d18f9",
        "outputId": "f6f5f7c3-8516-4110-85d7-d1e63cdcf95f"
      },
      "outputs": [
        {
          "data": {
            "text/plain": [
              "49079"
            ]
          },
          "execution_count": 4,
          "metadata": {},
          "output_type": "execute_result"
        }
      ],
      "source": [
        "# Check the number of datasets\n",
        "df.count()"
      ]
    },
    {
      "cell_type": "code",
      "execution_count": null,
      "id": "322cc536",
      "metadata": {
        "scrolled": true,
        "id": "322cc536",
        "outputId": "a3294f53-49e3-4dbb-f68d-b62bd5c2a0d4"
      },
      "outputs": [
        {
          "name": "stdout",
          "output_type": "stream",
          "text": [
            "Data overview\n",
            "root\n",
            " |-- id: string (nullable = true)\n",
            " |-- name: string (nullable = true)\n",
            " |-- host_id: string (nullable = true)\n",
            " |-- host_name: string (nullable = true)\n",
            " |-- neighbourhood_group: string (nullable = true)\n",
            " |-- neighbourhood: string (nullable = true)\n",
            " |-- latitude: string (nullable = true)\n",
            " |-- longitude: string (nullable = true)\n",
            " |-- room_type: string (nullable = true)\n",
            " |-- price: string (nullable = true)\n",
            " |-- minimum_nights: string (nullable = true)\n",
            " |-- number_of_reviews: string (nullable = true)\n",
            " |-- last_review: string (nullable = true)\n",
            " |-- reviews_per_month: string (nullable = true)\n",
            " |-- calculated_host_listings_count: string (nullable = true)\n",
            " |-- availability_365: string (nullable = true)\n",
            "\n",
            "Columns overview\n"
          ]
        },
        {
          "data": {
            "text/html": [
              "<div>\n",
              "<style scoped>\n",
              "    .dataframe tbody tr th:only-of-type {\n",
              "        vertical-align: middle;\n",
              "    }\n",
              "\n",
              "    .dataframe tbody tr th {\n",
              "        vertical-align: top;\n",
              "    }\n",
              "\n",
              "    .dataframe thead th {\n",
              "        text-align: right;\n",
              "    }\n",
              "</style>\n",
              "<table border=\"1\" class=\"dataframe\">\n",
              "  <thead>\n",
              "    <tr style=\"text-align: right;\">\n",
              "      <th></th>\n",
              "      <th>Column Name</th>\n",
              "      <th>Data type</th>\n",
              "    </tr>\n",
              "  </thead>\n",
              "  <tbody>\n",
              "    <tr>\n",
              "      <th>0</th>\n",
              "      <td>id</td>\n",
              "      <td>string</td>\n",
              "    </tr>\n",
              "    <tr>\n",
              "      <th>1</th>\n",
              "      <td>name</td>\n",
              "      <td>string</td>\n",
              "    </tr>\n",
              "    <tr>\n",
              "      <th>2</th>\n",
              "      <td>host_id</td>\n",
              "      <td>string</td>\n",
              "    </tr>\n",
              "    <tr>\n",
              "      <th>3</th>\n",
              "      <td>host_name</td>\n",
              "      <td>string</td>\n",
              "    </tr>\n",
              "    <tr>\n",
              "      <th>4</th>\n",
              "      <td>neighbourhood_group</td>\n",
              "      <td>string</td>\n",
              "    </tr>\n",
              "    <tr>\n",
              "      <th>5</th>\n",
              "      <td>neighbourhood</td>\n",
              "      <td>string</td>\n",
              "    </tr>\n",
              "    <tr>\n",
              "      <th>6</th>\n",
              "      <td>latitude</td>\n",
              "      <td>string</td>\n",
              "    </tr>\n",
              "    <tr>\n",
              "      <th>7</th>\n",
              "      <td>longitude</td>\n",
              "      <td>string</td>\n",
              "    </tr>\n",
              "    <tr>\n",
              "      <th>8</th>\n",
              "      <td>room_type</td>\n",
              "      <td>string</td>\n",
              "    </tr>\n",
              "    <tr>\n",
              "      <th>9</th>\n",
              "      <td>price</td>\n",
              "      <td>string</td>\n",
              "    </tr>\n",
              "    <tr>\n",
              "      <th>10</th>\n",
              "      <td>minimum_nights</td>\n",
              "      <td>string</td>\n",
              "    </tr>\n",
              "    <tr>\n",
              "      <th>11</th>\n",
              "      <td>number_of_reviews</td>\n",
              "      <td>string</td>\n",
              "    </tr>\n",
              "    <tr>\n",
              "      <th>12</th>\n",
              "      <td>last_review</td>\n",
              "      <td>string</td>\n",
              "    </tr>\n",
              "    <tr>\n",
              "      <th>13</th>\n",
              "      <td>reviews_per_month</td>\n",
              "      <td>string</td>\n",
              "    </tr>\n",
              "    <tr>\n",
              "      <th>14</th>\n",
              "      <td>calculated_host_listings_count</td>\n",
              "      <td>string</td>\n",
              "    </tr>\n",
              "    <tr>\n",
              "      <th>15</th>\n",
              "      <td>availability_365</td>\n",
              "      <td>string</td>\n",
              "    </tr>\n",
              "  </tbody>\n",
              "</table>\n",
              "</div>"
            ],
            "text/plain": [
              "                       Column Name Data type\n",
              "0                               id    string\n",
              "1                             name    string\n",
              "2                          host_id    string\n",
              "3                        host_name    string\n",
              "4              neighbourhood_group    string\n",
              "5                    neighbourhood    string\n",
              "6                         latitude    string\n",
              "7                        longitude    string\n",
              "8                        room_type    string\n",
              "9                            price    string\n",
              "10                  minimum_nights    string\n",
              "11               number_of_reviews    string\n",
              "12                     last_review    string\n",
              "13               reviews_per_month    string\n",
              "14  calculated_host_listings_count    string\n",
              "15                availability_365    string"
            ]
          },
          "execution_count": 5,
          "metadata": {},
          "output_type": "execute_result"
        }
      ],
      "source": [
        "# Check the data overview and columns overview\n",
        "print('Data overview')\n",
        "df.printSchema()\n",
        "print('Columns overview')\n",
        "pd.DataFrame(df.dtypes, columns = ['Column Name','Data type'])"
      ]
    },
    {
      "cell_type": "code",
      "execution_count": null,
      "id": "7ac41232",
      "metadata": {
        "id": "7ac41232",
        "outputId": "99e083b1-f772-45cb-e6d7-3873b71e7b06"
      },
      "outputs": [
        {
          "name": "stdout",
          "output_type": "stream",
          "text": [
            "id \t with null values:  0\n",
            "name \t with null values:  32\n",
            "host_id \t with null values:  185\n",
            "host_name \t with null values:  206\n",
            "neighbourhood_group \t with null values:  185\n",
            "neighbourhood \t with null values:  185\n",
            "latitude \t with null values:  185\n",
            "longitude \t with null values:  185\n",
            "room_type \t with null values:  185\n",
            "price \t with null values:  185\n",
            "minimum_nights \t with null values:  185\n",
            "number_of_reviews \t with null values:  205\n",
            "last_review \t with null values:  10234\n",
            "reviews_per_month \t with null values:  10215\n",
            "calculated_host_listings_count \t with null values:  187\n",
            "availability_365 \t with null values:  342\n"
          ]
        }
      ],
      "source": [
        "#Check for the null values in each column\n",
        "for col in df.columns:\n",
        "    print(col, \"\\t\", \"with null values: \", df.filter(df[col].isNull()).count())"
      ]
    },
    {
      "cell_type": "code",
      "execution_count": null,
      "id": "aa80e57f",
      "metadata": {
        "id": "aa80e57f",
        "outputId": "c5a887aa-78e7-4e78-dcfa-3ca8e5836a83"
      },
      "outputs": [
        {
          "name": "stdout",
          "output_type": "stream",
          "text": [
            "+----+--------------------+-------+----------------+-------------------+------------------+--------+---------+---------------+-----+--------------+-----------------+-----------+-----------------+------------------------------+----------------+\n",
            "|  id|                name|host_id|       host_name|neighbourhood_group|     neighbourhood|latitude|longitude|      room_type|price|minimum_nights|number_of_reviews|last_review|reviews_per_month|calculated_host_listings_count|availability_365|\n",
            "+----+--------------------+-------+----------------+-------------------+------------------+--------+---------+---------------+-----+--------------+-----------------+-----------+-----------------+------------------------------+----------------+\n",
            "|2539|Clean & quiet apt...|   2787|            John|           Brooklyn|        Kensington|40.64749|-73.97237|   Private room|  149|             1|                9| 2018-10-19|             0.21|                             6|             365|\n",
            "|2595|Skylit Midtown Ca...|   2845|        Jennifer|          Manhattan|           Midtown|40.75362|-73.98377|Entire home/apt|  225|             1|               45| 2019-05-21|             0.38|                             2|             355|\n",
            "|3831|Cozy Entire Floor...|   4869|     LisaRoxanne|           Brooklyn|      Clinton Hill|40.68514|-73.95976|Entire home/apt|   89|             1|              270| 2019-07-05|             4.64|                             1|             194|\n",
            "|5022|Entire Apt: Spaci...|   7192|           Laura|          Manhattan|       East Harlem|40.79851|-73.94399|Entire home/apt|   80|            10|                9| 2018-11-19|             0.10|                             1|               0|\n",
            "|5099|Large Cozy 1 BR A...|   7322|           Chris|          Manhattan|       Murray Hill|40.74767|  -73.975|Entire home/apt|  200|             3|               74| 2019-06-22|             0.59|                             1|             129|\n",
            "|5121|     BlissArtsSpace!|   7356|           Garon|           Brooklyn|Bedford-Stuyvesant|40.68688|-73.95596|   Private room|   60|            45|               49| 2017-10-05|             0.40|                             1|               0|\n",
            "|5178|Large Furnished R...|   8967|        Shunichi|          Manhattan|    Hell's Kitchen|40.76489|-73.98493|   Private room|   79|             2|              430| 2019-06-24|             3.47|                             1|             220|\n",
            "|5203|Cozy Clean Guest ...|   7490|       MaryEllen|          Manhattan|   Upper West Side|40.80178|-73.96723|   Private room|   79|             2|              118| 2017-07-21|             0.99|                             1|               0|\n",
            "|5238|Cute & Cozy Lower...|   7549|             Ben|          Manhattan|         Chinatown|40.71344|-73.99037|Entire home/apt|  150|             1|              160| 2019-06-09|             1.33|                             4|             188|\n",
            "|5295|Beautiful 1br on ...|   7702|            Lena|          Manhattan|   Upper West Side|40.80316|-73.96545|Entire home/apt|  135|             5|               53| 2019-06-22|             0.43|                             1|               6|\n",
            "|5441|Central Manhattan...|   7989|            Kate|          Manhattan|    Hell's Kitchen|40.76076|-73.98867|   Private room|   85|             2|              188| 2019-06-23|             1.50|                             1|              39|\n",
            "|5803|Lovely Room 1, Ga...|   9744|          Laurie|           Brooklyn|       South Slope|40.66829|-73.98779|   Private room|   89|             4|              167| 2019-06-24|             1.34|                             3|             314|\n",
            "|6021|Wonderful Guest B...|  11528|         Claudio|          Manhattan|   Upper West Side|40.79826|-73.96113|   Private room|   85|             2|              113| 2019-07-05|             0.91|                             1|             333|\n",
            "|6090|West Village Nest...|  11975|           Alina|          Manhattan|      West Village| 40.7353|-74.00525|Entire home/apt|  120|            90|               27| 2018-10-31|             0.22|                             1|               0|\n",
            "|6848|Only 2 stops to M...|  15991|   Allen & Irina|           Brooklyn|      Williamsburg|40.70837|-73.95352|Entire home/apt|  140|             2|              148| 2019-06-29|             1.20|                             1|              46|\n",
            "|7097|Perfect for Your ...|  17571|            Jane|           Brooklyn|       Fort Greene|40.69169|-73.97185|Entire home/apt|  215|             2|              198| 2019-06-28|             1.72|                             1|             321|\n",
            "|7322|     Chelsea Perfect|  18946|            Doti|          Manhattan|           Chelsea|40.74192|-73.99501|   Private room|  140|             1|              260| 2019-07-01|             2.12|                             1|              12|\n",
            "|7726|Hip Historic Brow...|  20950|Adam And Charity|           Brooklyn|     Crown Heights|40.67592|-73.94694|Entire home/apt|   99|             3|               53| 2019-06-22|             4.44|                             1|              21|\n",
            "|7801|Sweet and Spaciou...|  21207|           Chaya|           Brooklyn|      Williamsburg|40.71842|-73.95718|Entire home/apt|  299|             3|                9| 2011-12-28|             0.07|                             1|               0|\n",
            "|8024|CBG CtyBGd HelpsH...|  22486|           Lisel|           Brooklyn|        Park Slope|40.68069|-73.97706|   Private room|  130|             2|              130| 2019-07-01|             1.09|                             6|             347|\n",
            "+----+--------------------+-------+----------------+-------------------+------------------+--------+---------+---------------+-----+--------------+-----------------+-----------+-----------------+------------------------------+----------------+\n",
            "only showing top 20 rows\n",
            "\n"
          ]
        }
      ],
      "source": [
        "#Drop Rows with NULL Values\n",
        "df.na.drop().show()"
      ]
    },
    {
      "cell_type": "code",
      "execution_count": null,
      "id": "8e8e7009",
      "metadata": {
        "scrolled": false,
        "id": "8e8e7009",
        "outputId": "53e3daa6-c3c1-457d-d95d-474a09227722"
      },
      "outputs": [
        {
          "name": "stderr",
          "output_type": "stream",
          "text": [
            "                                                                                \r"
          ]
        },
        {
          "name": "stdout",
          "output_type": "stream",
          "text": [
            "+-------+--------------------+\n",
            "|summary|                  id|\n",
            "+-------+--------------------+\n",
            "|  count|               49079|\n",
            "|   mean|1.9017143236179568E7|\n",
            "| stddev|1.0983108385610051E7|\n",
            "|    min|  12 mins Manhattan\"|\n",
            "|    max| 獨一無二的紐約閣樓\"|\n",
            "+-------+--------------------+\n",
            "\n"
          ]
        },
        {
          "name": "stderr",
          "output_type": "stream",
          "text": [
            "\r",
            "[Stage 57:=============================>                            (1 + 1) / 2]\r",
            "\r",
            "                                                                                \r"
          ]
        },
        {
          "name": "stdout",
          "output_type": "stream",
          "text": [
            "+-------+-----------------------------+\n",
            "|summary|                         name|\n",
            "+-------+-----------------------------+\n",
            "|  count|                        49047|\n",
            "|   mean|              1.02037532075E8|\n",
            "| stddev|          8.709090084371349E7|\n",
            "|    min|          1 Bed Apt in Uto...|\n",
            "|    max|ﾏﾝﾊｯﾀﾝ､駅から徒歩4分でどこ...|\n",
            "+-------+-----------------------------+\n",
            "\n",
            "+-------+--------------------+\n",
            "|summary|             host_id|\n",
            "+-------+--------------------+\n",
            "|  count|               48894|\n",
            "|   mean| 6.749591589946438E7|\n",
            "| stddev| 7.855358174017511E7|\n",
            "|    min| Heart of Greenwi...|\n",
            "|    max|                呈刚|\n",
            "+-------+--------------------+\n",
            "\n",
            "+-------+--------------------+\n",
            "|summary|           host_name|\n",
            "+-------+--------------------+\n",
            "|  count|               48873|\n",
            "|   mean|                 NaN|\n",
            "| stddev|                 NaN|\n",
            "|    min| very clean studi...|\n",
            "|    max|                현선|\n",
            "+-------+--------------------+\n",
            "\n",
            "+-------+-------------------+\n",
            "|summary|neighbourhood_group|\n",
            "+-------+-------------------+\n",
            "|  count|              48894|\n",
            "|   mean|      1.960586395E8|\n",
            "| stddev|  1897565.595041315|\n",
            "|    min|          194716858|\n",
            "|    max|           Woodside|\n",
            "+-------+-------------------+\n",
            "\n",
            "+-------+------------------+\n",
            "|summary|     neighbourhood|\n",
            "+-------+------------------+\n",
            "|  count|             48894|\n",
            "|   mean| 40.49195828025477|\n",
            "| stddev|3.0923424874796805|\n",
            "|    min|                 2|\n",
            "|    max|          Woodside|\n",
            "+-------+------------------+\n",
            "\n",
            "+-------+------------------+\n",
            "|summary|          latitude|\n",
            "+-------+------------------+\n",
            "|  count|             48894|\n",
            "|   mean|40.363025517234234|\n",
            "| stddev| 6.467103784584835|\n",
            "|    min|         -73.72247|\n",
            "|    max|      West Village|\n",
            "+-------+------------------+\n",
            "\n",
            "+-------+------------------+\n",
            "|summary|         longitude|\n",
            "+-------+------------------+\n",
            "|  count|             48894|\n",
            "|   mean|437.11073690003474|\n",
            "| stddev| 112820.3283663637|\n",
            "|    min|         -73.71299|\n",
            "|    max|       Shared room|\n",
            "+-------+------------------+\n",
            "\n",
            "+-------+------------------+\n",
            "|summary|         room_type|\n",
            "+-------+------------------+\n",
            "|  count|             48894|\n",
            "|   mean|148.10106579268293|\n",
            "| stddev| 507.0239464524174|\n",
            "|    min|         -73.90783|\n",
            "|    max|       Shared room|\n",
            "+-------+------------------+\n",
            "\n",
            "+-------+------------------+\n",
            "|summary|             price|\n",
            "+-------+------------------+\n",
            "|  count|             48894|\n",
            "|   mean|152.22296299343384|\n",
            "| stddev|238.54148640283205|\n",
            "|    min|         -73.99986|\n",
            "|    max|      Private room|\n",
            "+-------+------------------+\n",
            "\n",
            "+-------+------------------+\n",
            "|summary|    minimum_nights|\n",
            "+-------+------------------+\n",
            "|  count|             48894|\n",
            "|   mean|7.1286126280910596|\n",
            "| stddev| 20.82853436534699|\n",
            "|    min|                 0|\n",
            "|    max|      Private room|\n",
            "+-------+------------------+\n",
            "\n",
            "+-------+-----------------+\n",
            "|summary|number_of_reviews|\n",
            "+-------+-----------------+\n",
            "|  count|            48874|\n",
            "|   mean|23.25829574459354|\n",
            "| stddev|44.55795124559949|\n",
            "|    min|                0|\n",
            "|    max|               99|\n",
            "+-------+-----------------+\n",
            "\n",
            "+-------+-----------------+\n",
            "|summary|      last_review|\n",
            "+-------+-----------------+\n",
            "|  count|            38845|\n",
            "|   mean|2.629232137931034|\n",
            "| stddev|8.964786212322723|\n",
            "|    min|        -73.94134|\n",
            "|    max|             9.66|\n",
            "+-------+-----------------+\n",
            "\n",
            "+-------+------------------+\n",
            "|summary| reviews_per_month|\n",
            "+-------+------------------+\n",
            "|  count|             38864|\n",
            "|   mean|1.3743823665654573|\n",
            "| stddev|1.6943762173150199|\n",
            "|    min|                 0|\n",
            "|    max|      Private room|\n",
            "+-------+------------------+\n",
            "\n",
            "+-------+------------------------------+\n",
            "|summary|calculated_host_listings_count|\n",
            "+-------+------------------------------+\n",
            "|  count|                         48892|\n",
            "|   mean|             7.655045918471702|\n",
            "| stddev|             34.82254748680066|\n",
            "|    min|                             0|\n",
            "|    max|                            99|\n",
            "+-------+------------------------------+\n",
            "\n",
            "+-------+------------------+\n",
            "|summary|  availability_365|\n",
            "+-------+------------------+\n",
            "|  count|             48737|\n",
            "|   mean|112.59808769518025|\n",
            "| stddev|131.60972881440708|\n",
            "|    min|                 0|\n",
            "|    max|                99|\n",
            "+-------+------------------+\n",
            "\n"
          ]
        }
      ],
      "source": [
        "# Check Statistical Information in Each Column\n",
        "for col in df.columns:\n",
        "     df.describe([col]).show()"
      ]
    },
    {
      "cell_type": "code",
      "execution_count": null,
      "id": "ca0bbc18",
      "metadata": {
        "id": "ca0bbc18",
        "outputId": "aa2dcf1d-137b-4198-e3ed-bf572e74c0f1"
      },
      "outputs": [
        {
          "name": "stdout",
          "output_type": "stream",
          "text": [
            "+---------------+-----+\n",
            "|      room_type|count|\n",
            "+---------------+-----+\n",
            "|Entire home/apt|25345|\n",
            "|   Private room|22226|\n",
            "|    Shared room| 1158|\n",
            "+---------------+-----+\n",
            "only showing top 3 rows\n",
            "\n"
          ]
        }
      ],
      "source": [
        "# Number of Listings with Room Type\n",
        "from pyspark.sql.functions import col, desc\n",
        "df.groupBy(\"room_type\") \\\n",
        "    .count() \\\n",
        "    .orderBy(col(\"count\").desc()) \\\n",
        "    .show(3)"
      ]
    },
    {
      "cell_type": "code",
      "execution_count": null,
      "id": "b66eb405",
      "metadata": {
        "id": "b66eb405"
      },
      "outputs": [],
      "source": [
        "def barplot(df, col, lim=10, yname=None):\n",
        "\n",
        "    '''\n",
        "    This function makes a bar plot for the Spark dataframe df\n",
        "    for categorical column col only selecting top categories\n",
        "    as specified by lim.\n",
        "    '''\n",
        "\n",
        "    # Grouping by the categories, counting on each categories\n",
        "    # and ordering them by the count\n",
        "    classes = df.groupBy(col).count().orderBy('count', ascending=False)\n",
        "\n",
        "    # Take first 'lim' number of rows and convert to pandas\n",
        "    pd_df = classes.limit(lim).toPandas()\n",
        "\n",
        "    # Making plot\n",
        "    pd_df.plot(kind='bar', x=col, legend=False)\n",
        "    plt.ylabel(yname)\n",
        "    plt.show()"
      ]
    },
    {
      "cell_type": "code",
      "execution_count": null,
      "id": "5be357a7",
      "metadata": {
        "scrolled": true,
        "id": "5be357a7",
        "outputId": "d925d1e4-7230-4fd7-ae33-c1bb155dcc7d"
      },
      "outputs": [
        {
          "data": {
            "image/png": "[encoded data removed]",
            "text/plain": [
              "<Figure size 640x480 with 1 Axes>"
            ]
          },
          "metadata": {},
          "output_type": "display_data"
        }
      ],
      "source": [
        "barplot(df, 'room_type', lim=3, yname='Number of Room Type ')"
      ]
    },
    {
      "cell_type": "code",
      "execution_count": null,
      "id": "844dc43f",
      "metadata": {
        "id": "844dc43f",
        "outputId": "3c2e73df-3d20-487c-a9be-0ef6f30ae00e"
      },
      "outputs": [
        {
          "name": "stdout",
          "output_type": "stream",
          "text": [
            "+-------------------+-----+\n",
            "|neighbourhood_group|count|\n",
            "+-------------------+-----+\n",
            "|          Manhattan|21594|\n",
            "|           Brooklyn|20055|\n",
            "|             Queens| 5630|\n",
            "|              Bronx| 1080|\n",
            "|      Staten Island|  370|\n",
            "+-------------------+-----+\n",
            "only showing top 5 rows\n",
            "\n"
          ]
        }
      ],
      "source": [
        "# Number of Listings with Neighbourhood Group\n",
        "dataset = (\n",
        "    spark.read.csv(\n",
        "        path=\"hdfs://localhost:9000/clarin/AB_NYC_2019.csv\",\n",
        "        sep=\",\",\n",
        "        header=True,\n",
        "        quote='\"',\n",
        "    )\n",
        ")\n",
        "dataset.groupBy(\"neighbourhood_group\") \\\n",
        "    .count() \\\n",
        "    .orderBy(col(\"count\").desc()) \\\n",
        "    .show(5)\n",
        "\n"
      ]
    },
    {
      "cell_type": "code",
      "execution_count": null,
      "id": "e7e98f4e",
      "metadata": {
        "id": "e7e98f4e"
      },
      "outputs": [],
      "source": [
        "def pieplot(df, col, lim=10, yname=None):\n",
        "\n",
        "    '''\n",
        "    This function makes a pie chart for the Spark dataframe df\n",
        "    for categorical column col only selecting top categories\n",
        "    as specified by lim.\n",
        "    '''\n",
        "\n",
        "    # Grouping by the categories, counting on each categories\n",
        "    # and ordering them by the count\n",
        "    classes = df.groupBy(col).count().orderBy('count', ascending=False)\n",
        "\n",
        "    # Take first 'lim' number of rows and convert to pandas\n",
        "    pd_df = classes.limit(lim).toPandas()\n",
        "\n",
        "    # Making plot\n",
        "    pd_df.plot(kind='pie', x=col, y='count', \\\n",
        "           labels=pd_df[col], legend=False)\n",
        "    plt.ylabel(None)\n",
        "    plt.show()"
      ]
    },
    {
      "cell_type": "code",
      "execution_count": null,
      "id": "c448a497",
      "metadata": {
        "id": "c448a497",
        "outputId": "4630a42c-9d52-42d6-c2e4-610690f3a9b9"
      },
      "outputs": [
        {
          "data": {
            "image/png": "[encoded data removed]",
            "text/plain": [
              "<Figure size 640x480 with 1 Axes>"
            ]
          },
          "metadata": {},
          "output_type": "display_data"
        }
      ],
      "source": [
        "li = [\"Manhattan\", \"Brooklyn\", \"Queens\",\"Staten Island\", \"Bronx\"]\n",
        "pieplot(df.filter(df.neighbourhood_group.isin(li)), 'neighbourhood_group')"
      ]
    },
    {
      "cell_type": "code",
      "execution_count": null,
      "id": "4ad5f820",
      "metadata": {
        "id": "4ad5f820",
        "outputId": "aea9f604-c744-47bd-b77e-b41d7cd8407a"
      },
      "outputs": [
        {
          "data": {
            "image/png": "[encoded data removed]",
            "text/plain": [
              "<Figure size 640x480 with 1 Axes>"
            ]
          },
          "metadata": {},
          "output_type": "display_data"
        }
      ],
      "source": [
        "# Minimum Number of Nights on Offer\n",
        "pieplot(dataset, 'minimum_nights')"
      ]
    },
    {
      "cell_type": "code",
      "execution_count": null,
      "id": "aba06458",
      "metadata": {
        "id": "aba06458",
        "outputId": "d28b83e7-b40c-4caf-b347-3bc2e9f05674"
      },
      "outputs": [
        {
          "name": "stdout",
          "output_type": "stream",
          "text": [
            "+--------------+-------------------+------------------+\n",
            "| neighbourhood|neighbourhood_group|         avg_price|\n",
            "+--------------+-------------------+------------------+\n",
            "|Fort Wadsworth|      Staten Island|             800.0|\n",
            "|      Sea Gate|           Brooklyn| 548.3333333333334|\n",
            "|       Tribeca|          Manhattan|  490.638418079096|\n",
            "|     Riverdale|              Bronx|442.09090909090907|\n",
            "+--------------+-------------------+------------------+\n",
            "only showing top 4 rows\n",
            "\n"
          ]
        }
      ],
      "source": [
        "# Check Neighbourhoods with the Highest Average Price in Each Neighbourhood Groups\n",
        "from pyspark.sql.functions import avg\n",
        "dataset.groupBy(\"neighbourhood\",\"neighbourhood_group\") \\\n",
        "    .agg(avg(\"price\").alias(\"avg_price\")) \\\n",
        "    .filter((dataset.neighbourhood  != \"Woodrow\")) \\\n",
        "    .sort(desc(\"avg_price\")) \\\n",
        "    .show(4)"
      ]
    },
    {
      "cell_type": "code",
      "execution_count": null,
      "id": "1cd9ddb1",
      "metadata": {
        "id": "1cd9ddb1"
      },
      "outputs": [],
      "source": [
        "def barplot(dataset, col, lim=10, yname=None):\n",
        "\n",
        "    classes = dataset.groupBy(col).agg(avg(\"price\").alias(\"avg_price\")).orderBy('avg_price', ascending=False).filter((dataset.neighbourhood  != \"Woodrow\"))\n",
        "    pd_df = classes.limit(lim).toPandas()\n",
        "\n",
        "    # Making plot\n",
        "    pd_df.plot(kind='bar', x=col, legend=False)\n",
        "    plt.ylabel(yname)\n",
        "    plt.show()"
      ]
    },
    {
      "cell_type": "code",
      "execution_count": null,
      "id": "ce8ecc7c",
      "metadata": {
        "id": "ce8ecc7c",
        "outputId": "f4f1a014-d290-4bb5-9aae-6bc7844c0c0c"
      },
      "outputs": [
        {
          "data": {
            "image/png": "[encoded data removed]",
            "text/plain": [
              "<Figure size 640x480 with 1 Axes>"
            ]
          },
          "metadata": {},
          "output_type": "display_data"
        }
      ],
      "source": [
        "barplot(dataset, 'neighbourhood', lim=4, yname='Number of average price')"
      ]
    },
    {
      "cell_type": "code",
      "execution_count": null,
      "id": "5ba5000a",
      "metadata": {
        "id": "5ba5000a"
      },
      "outputs": [],
      "source": [
        "# Convert data type of Price Columns\n",
        "dataset = dataset.withColumn(\"price\",dataset.price.cast(\"Integer\"))"
      ]
    },
    {
      "cell_type": "code",
      "execution_count": null,
      "id": "72269b14",
      "metadata": {
        "scrolled": false,
        "id": "72269b14",
        "outputId": "5f9d87cc-d0bc-4163-eb6c-51b50c376b10"
      },
      "outputs": [
        {
          "name": "stdout",
          "output_type": "stream",
          "text": [
            "+--------------------------------------------------+-------------------+---------+\n",
            "|name                                              |neighbourhood_group|max_price|\n",
            "+--------------------------------------------------+-------------------+---------+\n",
            "|Luxury 1 bedroom apt. -stunning Manhattan views   |Brooklyn           |10000    |\n",
            "|Furnished room in Astoria apartment               |Queens             |10000    |\n",
            "|1-BR Lincoln Center                               |Manhattan          |10000    |\n",
            "|Quiet, Clean, Lit @ LES & Chinatown               |Manhattan          |9999     |\n",
            "|Spanish Harlem Apt                                |Manhattan          |9999     |\n",
            "|2br - The Heart of NYC: Manhattans Lower East Side|Manhattan          |9999     |\n",
            "|Beautiful/Spacious 1 bed luxury flat-TriBeCa/Soho |Manhattan          |8500     |\n",
            "|Film Location                                     |Brooklyn           |8000     |\n",
            "|East 72nd Townhouse by (Hidden by Airbnb)         |Manhattan          |7703     |\n",
            "|Gem of east Flatbush                              |Brooklyn           |7500     |\n",
            "|70' Luxury MotorYacht on the Hudson               |Manhattan          |7500     |\n",
            "|3000 sq ft daylight photo studio                  |Manhattan          |6800     |\n",
            "|Luxury TriBeCa Apartment at an amazing price      |Manhattan          |6500     |\n",
            "|SUPER BOWL Brooklyn Duplex Apt!!                  |Brooklyn           |6500     |\n",
            "|Park Avenue Mansion by (Hidden by Airbnb)         |Manhattan          |6419     |\n",
            "|UWS 1BR w/backyard + block from CP                |Manhattan          |6000     |\n",
            "|Luxury townhouse Greenwich Village                |Manhattan          |6000     |\n",
            "|SuperBowl Penthouse Loft 3,000 sqft               |Manhattan          |5250     |\n",
            "|Midtown Manhattan great location (Gramacy park)   |Manhattan          |5100     |\n",
            "|NearWilliamsburg bridge 11211 BK                  |Brooklyn           |5000     |\n",
            "+--------------------------------------------------+-------------------+---------+\n",
            "only showing top 20 rows\n",
            "\n"
          ]
        }
      ],
      "source": [
        "# Costliest listings in each neighbourhood groups\n",
        "from pyspark.sql.functions import max\n",
        "li = [\"Nadia\",\"Krista\",\"William Hakan\",\"D\",\"Carmen\",\"Evelyn\",\"Seth\"]\n",
        "dataset.groupBy(\"name\",\"neighbourhood_group\") \\\n",
        "    .agg(max(\"price\").alias(\"max_price\")) \\\n",
        "    .filter(dataset.neighbourhood_group.isin(li)==False) \\\n",
        "    .sort(desc(\"max_price\")) \\\n",
        "    .show(truncate=False)"
      ]
    },
    {
      "cell_type": "code",
      "execution_count": null,
      "id": "278d3da5",
      "metadata": {
        "id": "278d3da5",
        "outputId": "2c0eae95-af23-4573-c7b1-75eef61038e4"
      },
      "outputs": [
        {
          "name": "stdout",
          "output_type": "stream",
          "text": [
            "+---------------+-------------------+---------+\n",
            "|      room_type|neighbourhood_group|max_price|\n",
            "+---------------+-------------------+---------+\n",
            "|Entire home/apt|           Brooklyn|    10000|\n",
            "|   Private room|             Queens|    10000|\n",
            "|Entire home/apt|          Manhattan|    10000|\n",
            "|   Private room|          Manhattan|     9999|\n",
            "|   Private room|           Brooklyn|     7500|\n",
            "|Entire home/apt|      Staten Island|     5000|\n",
            "|Entire home/apt|             Queens|     2600|\n",
            "|   Private room|              Bronx|     2500|\n",
            "|    Shared room|             Queens|     1800|\n",
            "|    Shared room|          Manhattan|     1000|\n",
            "|Entire home/apt|              Bronx|     1000|\n",
            "|    Shared room|              Bronx|      800|\n",
            "|    Shared room|           Brooklyn|      725|\n",
            "|   Private room|      Staten Island|      300|\n",
            "|    Shared room|      Staten Island|      150|\n",
            "+---------------+-------------------+---------+\n",
            "only showing top 15 rows\n",
            "\n"
          ]
        }
      ],
      "source": [
        "# Comparison of Room Type and Price in Different Neighbourhood Groups\n",
        "li = [\"Nadia\",\"Krista\",\"William Hakan\",\"D\",\"Carmen\",\"Evelyn\",\"Seth\"]\n",
        "dataset.groupBy(\"room_type\",\"neighbourhood_group\") \\\n",
        "    .agg(max(\"price\").alias(\"max_price\")) \\\n",
        "    .filter(dataset.neighbourhood_group.isin(li)==False) \\\n",
        "    .sort(desc(\"max_price\")) \\\n",
        "    .show(15)"
      ]
    },
    {
      "cell_type": "code",
      "execution_count": null,
      "id": "53c8dddc",
      "metadata": {
        "id": "53c8dddc",
        "outputId": "6965ca96-ab20-44bd-e307-098ff3043c3a"
      },
      "outputs": [
        {
          "name": "stdout",
          "output_type": "stream",
          "text": [
            "               Private room  Entire home/apt  Shared room\n",
            "Manhattan              9999            10000         1000\n",
            "Brooklyn               7500            10000          725\n",
            "Queens                10000             2600         1800\n",
            "Staten Island           300             5000          150\n",
            "Bronx                  2500             1000          800\n"
          ]
        }
      ],
      "source": [
        "# Create DataFrame\n",
        "df = pd.DataFrame({\"Private room\":[9999, 7500, 10000, 300, 2500],\n",
        "                   \"Entire home/apt\":[10000, 10000, 2600, 5000, 1000],\n",
        "                   \"Shared room\":[1000, 725, 1800, 150, 800]},\n",
        "                  index = [\"Manhattan\", \"Brooklyn\", \"Queens\",\"Staten Island\", \"Bronx\"])\n",
        "print(df)"
      ]
    },
    {
      "cell_type": "code",
      "execution_count": null,
      "id": "5bd6e23a",
      "metadata": {
        "scrolled": true,
        "id": "5bd6e23a",
        "outputId": "7adb8cf7-3a76-4b55-def1-a92d3b20d50c"
      },
      "outputs": [
        {
          "data": {
            "text/plain": [
              "Text(0, 0.5, 'Price')"
            ]
          },
          "execution_count": 23,
          "metadata": {},
          "output_type": "execute_result"
        },
        {
          "data": {
            "image/png": "[encoded data removed]",
            "text/plain": [
              "<Figure size 640x480 with 1 Axes>"
            ]
          },
          "metadata": {},
          "output_type": "display_data"
        }
      ],
      "source": [
        "df.plot(kind=\"bar\")\n",
        "plt.title(\"Room Type & Price in Different Neighbourhood Groups\")\n",
        "plt.xlabel(\"Neighbourhood Group\")\n",
        "plt.ylabel(\"Price\")"
      ]
    },
    {
      "cell_type": "code",
      "execution_count": null,
      "id": "ead0ff39",
      "metadata": {
        "id": "ead0ff39",
        "outputId": "51fd59c6-4946-416d-a096-024a7e0b2ccd"
      },
      "outputs": [
        {
          "name": "stdout",
          "output_type": "stream",
          "text": [
            "+--------------------+-------------------+----------+\n",
            "|                name|neighbourhood_group|max_review|\n",
            "+--------------------+-------------------+----------+\n",
            "|COZY Room for Fem...|           Brooklyn|      9.97|\n",
            "|    Park Slope Villa|           Brooklyn|      9.93|\n",
            "|A Little Sumptin'...|           Brooklyn|      9.85|\n",
            "|Accessible Two Be...|          Manhattan|      9.85|\n",
            "|   Peaches Paradise.|             Queens|      9.83|\n",
            "|Private room near...|             Queens|      9.82|\n",
            "|Best Value ❤️Memo...|          Manhattan|      9.78|\n",
            "|Master Bedroom wi...|             Queens|      9.74|\n",
            "|Cozy and private ...|             Queens|      9.73|\n",
            "|Modern 2 Bedroom ...|           Brooklyn|      9.68|\n",
            "+--------------------+-------------------+----------+\n",
            "only showing top 10 rows\n",
            "\n"
          ]
        }
      ],
      "source": [
        "# Top 10 most reviewed listings in New York City\n",
        "dataset.groupBy(\"name\",\"neighbourhood_group\") \\\n",
        "    .agg(max(\"reviews_per_month\").alias(\"max_review\")) \\\n",
        "    .filter(\"neighbourhood_group != 'D'\") \\\n",
        "    .sort(desc(\"max_review\")) \\\n",
        "    .show(10)"
      ]
    },
    {
      "cell_type": "code",
      "execution_count": null,
      "id": "31b86f8f",
      "metadata": {
        "id": "31b86f8f",
        "outputId": "b6c8cb35-346e-4bc4-9cad-f16ec44759aa"
      },
      "outputs": [
        {
          "name": "stdout",
          "output_type": "stream",
          "text": [
            "+---------------+-------------------+----------+\n",
            "|      room_type|neighbourhood_group|max_review|\n",
            "+---------------+-------------------+----------+\n",
            "|   Private room|           Brooklyn|      9.97|\n",
            "|Entire home/apt|           Brooklyn|      9.93|\n",
            "|   Private room|          Manhattan|      9.85|\n",
            "|   Private room|             Queens|      9.83|\n",
            "|Entire home/apt|          Manhattan|      9.78|\n",
            "|Entire home/apt|             Queens|      9.63|\n",
            "|   Private room|      Staten Island|      9.33|\n",
            "|    Shared room|             Queens|      9.13|\n",
            "|    Shared room|          Manhattan|      9.12|\n",
            "|Entire home/apt|      Staten Island|      9.10|\n",
            "+---------------+-------------------+----------+\n",
            "only showing top 10 rows\n",
            "\n"
          ]
        }
      ],
      "source": [
        "# Monthly reviews with room types in each neighbourhood groups\n",
        "dataset.groupBy(\"room_type\",\"neighbourhood_group\") \\\n",
        "    .agg(max(\"reviews_per_month\").alias(\"max_review\")) \\\n",
        "    .filter(\"neighbourhood_group != 'D'\") \\\n",
        "    .sort(desc(\"max_review\")) \\\n",
        "    .show(10)"
      ]
    },
    {
      "cell_type": "code",
      "execution_count": null,
      "id": "4363f88e",
      "metadata": {
        "id": "4363f88e",
        "outputId": "3edf794e-9797-4c0f-990d-eb36507adc81"
      },
      "outputs": [
        {
          "name": "stdout",
          "output_type": "stream",
          "text": [
            "   Private room  Entire home/apt  Shared room Neighbourhood Groups\n",
            "0          9.33             9.10         0.00        Staten Island\n",
            "1          9.83             9.63         9.13               Queens\n",
            "2          9.85             9.78         9.12            Manhattan\n",
            "3          9.97             9.93         0.00             Brooklyn\n"
          ]
        }
      ],
      "source": [
        "df = pd.DataFrame({\n",
        "    'Private room': [9.33, 9.83,9.85, 9.97],\n",
        "    'Entire home/apt': [9.10, 9.63, 9.78, 9.93],\n",
        "    'Shared room': [0, 9.13, 9.12, 0 ],\n",
        "    'Neighbourhood Groups': ['Staten Island', 'Queens', 'Manhattan', 'Brooklyn']\n",
        "})\n",
        "print(df)"
      ]
    },
    {
      "cell_type": "code",
      "execution_count": null,
      "id": "8fe2b795",
      "metadata": {
        "scrolled": true,
        "id": "8fe2b795",
        "outputId": "256a2a81-30fa-4321-8124-e6dd23127a07"
      },
      "outputs": [
        {
          "data": {
            "text/plain": [
              "array([[<AxesSubplot:title={'center':'Private room'}>,\n",
              "        <AxesSubplot:title={'center':'Entire home/apt'}>],\n",
              "       [<AxesSubplot:title={'center':'Shared room'}>, <AxesSubplot:>]],\n",
              "      dtype=object)"
            ]
          },
          "execution_count": 27,
          "metadata": {},
          "output_type": "execute_result"
        },
        {
          "data": {
            "image/png": "[encoded data removed]",
            "text/plain": [
              "<Figure size 640x480 with 4 Axes>"
            ]
          },
          "metadata": {},
          "output_type": "display_data"
        }
      ],
      "source": [
        "df.hist()"
      ]
    },
    {
      "cell_type": "code",
      "execution_count": null,
      "id": "11e80bfa",
      "metadata": {
        "id": "11e80bfa"
      },
      "outputs": [],
      "source": []
    }
  ],
  "metadata": {
    "kernelspec": {
      "display_name": "Python 3 (ipykernel)",
      "language": "python",
      "name": "python3"
    },
    "language_info": {
      "codemirror_mode": {
        "name": "ipython",
        "version": 3
      },
      "file_extension": ".py",
      "mimetype": "text/x-python",
      "name": "python",
      "nbconvert_exporter": "python",
      "pygments_lexer": "ipython3",
      "version": "3.10.6"
    },
    "colab": {
      "provenance": [],
      "include_colab_link": true
    }
  },
  "nbformat": 4,
  "nbformat_minor": 5
}